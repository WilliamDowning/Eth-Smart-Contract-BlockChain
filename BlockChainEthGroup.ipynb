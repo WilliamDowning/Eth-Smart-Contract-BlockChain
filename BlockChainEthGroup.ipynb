{
  "nbformat": 4,
  "nbformat_minor": 0,
  "metadata": {
    "colab": {
      "provenance": [],
      "collapsed_sections": [],
      "include_colab_link": true
    },
    "kernelspec": {
      "name": "python3",
      "display_name": "Python 3"
    },
    "language_info": {
      "name": "python"
    }
  },
  "cells": [
    {
      "cell_type": "markdown",
      "metadata": {
        "id": "view-in-github",
        "colab_type": "text"
      },
      "source": [
        "<a href=\"https://colab.research.google.com/github/WilliamDowning/Eth-Smart-Contract-Blockchain/blob/main/BlockChainEthGroup.ipynb\" target=\"_parent\"><img src=\"https://colab.research.google.com/assets/colab-badge.svg\" alt=\"Open In Colab\"/></a>"
      ]
    },
    {
      "cell_type": "markdown",
      "source": [
        "This is the basic function of a Blockchain creation of Blocks and mining towards creating more from the genesis block"
      ],
      "metadata": {
        "id": "PnN91zC2Y4lQ"
      }
    },
    {
      "cell_type": "code",
      "source": [
        "import datetime\n",
        "import hashlib\n",
        "\n",
        "class Block:\n",
        "    blockNo = 0\n",
        "    data = None\n",
        "    next = None\n",
        "    hash = None\n",
        "    nonce = 0\n",
        "    previous_hash = 0x0\n",
        "    timestamp = datetime.datetime.now()\n",
        "\n",
        "    def __init__(self, data):\n",
        "        self.data = data\n",
        "\n",
        "    def hash(self):\n",
        "        h = hashlib.sha256()\n",
        "        h.update(\n",
        "        str(self.nonce).encode('utf-8') +\n",
        "        str(self.data).encode('utf-8') +\n",
        "        str(self.previous_hash).encode('utf-8') +\n",
        "        str(self.timestamp).encode('utf-8') +\n",
        "        str(self.blockNo).encode('utf-8')\n",
        "        )\n",
        "        return h.hexdigest()\n",
        "\n",
        "    def __str__(self):\n",
        "        return \"Block Hash: \" + str(self.hash()) + \"\\nBlockNo: \" + str(self.blockNo) + \"\\nBlock Data: \" + str(self.data) + \"\\nHashes: \" + str(self.nonce) + \"\\n--------------\"\n",
        "\n",
        "class Blockchain:\n",
        "\n",
        "    diff = 20\n",
        "    maxNonce = 2**32\n",
        "    target = 2 ** (256-diff)\n",
        "\n",
        "    block = Block(\"Genesis\")\n",
        "    dummy = head = block\n",
        "\n",
        "    def add(self, block):\n",
        "\n",
        "        block.previous_hash = self.block.hash()\n",
        "        block.blockNo = self.block.blockNo + 1\n",
        "\n",
        "        self.block.next = block\n",
        "        self.block = self.block.next\n",
        "\n",
        "    def mine(self, block):\n",
        "        for n in range(self.maxNonce):\n",
        "            if int(block.hash(), 16) <= self.target:\n",
        "                self.add(block)\n",
        "                print(block)\n",
        "                break\n",
        "            else:\n",
        "                block.nonce += 1\n",
        "\n",
        "blockchain = Blockchain()\n",
        "\n",
        "for n in range(10):\n",
        "    blockchain.mine(Block(\"Block \" + str(n+1)))\n",
        "\n",
        "while blockchain.head != None:\n",
        "    print(blockchain.head)\n",
        "    blockchain.head = blockchain.head.next"
      ],
      "metadata": {
        "id": "RRLEkC4GxAcD"
      },
      "execution_count": null,
      "outputs": []
    },
    {
      "cell_type": "markdown",
      "source": [
        "!pip install eth-utils==1.1.2\n",
        "from eth_utils import address\n",
        "!pip install -U --pre web3\n",
        "import os\n",
        "!pip install py-solc-x\n",
        "!pip install python-dotenv\n",
        "import json\n",
        "\n",
        "\n",
        "from web3 import Web3\n",
        "from solc import compile_standard, install_solc\n",
        "from dotenv import load_dotenv"
      ],
      "metadata": {
        "id": "AoHpBoTqznYc"
      }
    },
    {
      "cell_type": "markdown",
      "source": [
        "# **A Hello World Solidity Smart Contract**"
      ],
      "metadata": {
        "id": "0rAnOQSK_dAZ"
      }
    },
    {
      "cell_type": "code",
      "source": [
        "!pip install py-solc-x\n",
        "from solcx import compile_source\n",
        "\n",
        "\n",
        "\n",
        "compiled_solidity = compile_source(\n",
        "'''\n",
        "// SPDX-License-Identifier: MIT\n",
        "\n",
        "pragma solidity 0.8.17;\n",
        "\n",
        "\n",
        "contract HelloWorld {\n",
        "    string public message;\n",
        "\n",
        "    constructor(){\n",
        "        message = \"Hello World\";\n",
        "\n",
        "    }\n",
        "\n",
        "    function setMessage(string memory msge) public {\n",
        "        message = msge;\n",
        "    }\n",
        "\n",
        "    function sayMessage() view public returns (string memory){\n",
        "        return message;\n",
        "    }\n",
        "}\n",
        "''', output_values = ['abi', 'bin'])\n"
      ],
      "metadata": {
        "id": "wPGo-3aAa0zv",
        "colab": {
          "base_uri": "https://localhost:8080/"
        },
        "outputId": "2ac6fa3d-0478-4303-960e-733c8240266c"
      },
      "execution_count": 7,
      "outputs": [
        {
          "output_type": "stream",
          "name": "stdout",
          "text": [
            "Looking in indexes: https://pypi.org/simple, https://us-python.pkg.dev/colab-wheels/public/simple/\n",
            "Requirement already satisfied: py-solc-x in /usr/local/lib/python3.7/dist-packages (1.1.1)\n",
            "Requirement already satisfied: semantic-version<3,>=2.8.1 in /usr/local/lib/python3.7/dist-packages (from py-solc-x) (2.10.0)\n",
            "Requirement already satisfied: requests<3,>=2.19.0 in /usr/local/lib/python3.7/dist-packages (from py-solc-x) (2.23.0)\n",
            "Requirement already satisfied: certifi>=2017.4.17 in /usr/local/lib/python3.7/dist-packages (from requests<3,>=2.19.0->py-solc-x) (2022.6.15)\n",
            "Requirement already satisfied: chardet<4,>=3.0.2 in /usr/local/lib/python3.7/dist-packages (from requests<3,>=2.19.0->py-solc-x) (3.0.4)\n",
            "Requirement already satisfied: idna<3,>=2.5 in /usr/local/lib/python3.7/dist-packages (from requests<3,>=2.19.0->py-solc-x) (2.10)\n",
            "Requirement already satisfied: urllib3!=1.25.0,!=1.25.1,<1.26,>=1.21.1 in /usr/local/lib/python3.7/dist-packages (from requests<3,>=2.19.0->py-solc-x) (1.24.3)\n"
          ]
        }
      ]
    },
    {
      "cell_type": "code",
      "source": [
        "compiled_solidity"
      ],
      "metadata": {
        "colab": {
          "base_uri": "https://localhost:8080/"
        },
        "id": "SM8l_9Z5KRmq",
        "outputId": "76dca7e3-92d1-470e-9efb-4d97de3e84c3"
      },
      "execution_count": 8,
      "outputs": [
        {
          "output_type": "execute_result",
          "data": {
            "text/plain": [
              "{'<stdin>:HelloWorld': {'abi': [{'inputs': [],\n",
              "    'stateMutability': 'nonpayable',\n",
              "    'type': 'constructor'},\n",
              "   {'inputs': [],\n",
              "    'name': 'message',\n",
              "    'outputs': [{'internalType': 'string', 'name': '', 'type': 'string'}],\n",
              "    'stateMutability': 'view',\n",
              "    'type': 'function'},\n",
              "   {'inputs': [],\n",
              "    'name': 'sayMessage',\n",
              "    'outputs': [{'internalType': 'string', 'name': '', 'type': 'string'}],\n",
              "    'stateMutability': 'view',\n",
              "    'type': 'function'},\n",
              "   {'inputs': [{'internalType': 'string', 'name': 'msge', 'type': 'string'}],\n",
              "    'name': 'setMessage',\n",
              "    'outputs': [],\n",
              "    'stateMutability': 'nonpayable',\n",
              "    'type': 'function'}],\n",
              "  'bin': '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'}}"
            ]
          },
          "metadata": {},
          "execution_count": 8
        }
      ]
    },
    {
      "cell_type": "code",
      "source": [
        "contract_id , contract_interface = compiled_solidity.popitem()\n",
        "print(contract_id)"
      ],
      "metadata": {
        "colab": {
          "base_uri": "https://localhost:8080/"
        },
        "id": "2vN2tFnjKr-c",
        "outputId": "4c859945-7490-4e8f-e70e-1d72d612afe3"
      },
      "execution_count": 9,
      "outputs": [
        {
          "output_type": "stream",
          "name": "stdout",
          "text": [
            "<stdin>:HelloWorld\n"
          ]
        }
      ]
    },
    {
      "cell_type": "code",
      "source": [
        "contract_interface['abi']"
      ],
      "metadata": {
        "colab": {
          "base_uri": "https://localhost:8080/"
        },
        "id": "NimzMifHLCwD",
        "outputId": "e593c4a7-e0fb-49e5-b72a-5008671771a6"
      },
      "execution_count": 11,
      "outputs": [
        {
          "output_type": "execute_result",
          "data": {
            "text/plain": [
              "[{'inputs': [], 'stateMutability': 'nonpayable', 'type': 'constructor'},\n",
              " {'inputs': [],\n",
              "  'name': 'message',\n",
              "  'outputs': [{'internalType': 'string', 'name': '', 'type': 'string'}],\n",
              "  'stateMutability': 'view',\n",
              "  'type': 'function'},\n",
              " {'inputs': [],\n",
              "  'name': 'sayMessage',\n",
              "  'outputs': [{'internalType': 'string', 'name': '', 'type': 'string'}],\n",
              "  'stateMutability': 'view',\n",
              "  'type': 'function'},\n",
              " {'inputs': [{'internalType': 'string', 'name': 'msge', 'type': 'string'}],\n",
              "  'name': 'setMessage',\n",
              "  'outputs': [],\n",
              "  'stateMutability': 'nonpayable',\n",
              "  'type': 'function'}]"
            ]
          },
          "metadata": {},
          "execution_count": 11
        }
      ]
    }
  ]
}